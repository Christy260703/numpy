{
  "nbformat": 4,
  "nbformat_minor": 0,
  "metadata": {
    "colab": {
      "provenance": [],
      "authorship_tag": "ABX9TyMyGxOQTn1kIbEbMDUiv6qd",
      "include_colab_link": true
    },
    "kernelspec": {
      "name": "python3",
      "display_name": "Python 3"
    },
    "language_info": {
      "name": "python"
    }
  },
  "cells": [
    {
      "cell_type": "markdown",
      "metadata": {
        "id": "view-in-github",
        "colab_type": "text"
      },
      "source": [
        "<a href=\"https://colab.research.google.com/github/Christy260703/numpy/blob/main/numpy.ipynb\" target=\"_parent\"><img src=\"https://colab.research.google.com/assets/colab-badge.svg\" alt=\"Open In Colab\"/></a>"
      ]
    },
    {
      "cell_type": "code",
      "execution_count": 4,
      "metadata": {
        "colab": {
          "base_uri": "https://localhost:8080/"
        },
        "id": "7sr4wNu4ichY",
        "outputId": "832561d2-e261-4eab-a70b-7bb15cbe48b4"
      },
      "outputs": [
        {
          "output_type": "stream",
          "name": "stdout",
          "text": [
            "[[1 2 3]\n",
            " [4 5 6]\n",
            " [7 8 9]]\n"
          ]
        },
        {
          "output_type": "execute_result",
          "data": {
            "text/plain": [
              "array([1, 2, 3, 4, 5, 6, 7, 8, 9])"
            ]
          },
          "metadata": {},
          "execution_count": 4
        }
      ],
      "source": [
        "import numpy as np\n",
        "a = np.array([[1,2,3],[4,5,6],[7,8,9]])\n",
        "print(a)\n",
        "\n",
        "#flatten\n",
        "a.flatten()"
      ]
    },
    {
      "cell_type": "code",
      "source": [
        "#sort\n",
        "#create a 3*3 matrix\n",
        "\n",
        "a = np.array([[3,4,1],[5,3,1],[6,9,8]])\n",
        "print(a)\n",
        "print(\"\\n\")\n",
        "b = np.sort(a,axis=0)\n",
        "print(b)\n",
        "print(\"\\n\")\n",
        "b = np.sort(a,axis=1)\n",
        "print(b)\n",
        "print(\"\\n\")\n",
        "c = np.argsort(a,axis=1)\n",
        "print(c)\n",
        "\n"
      ],
      "metadata": {
        "colab": {
          "base_uri": "https://localhost:8080/"
        },
        "id": "Ox6dQP-RljRr",
        "outputId": "4671e179-e26c-4d57-aef3-ab2dd44f586a"
      },
      "execution_count": 7,
      "outputs": [
        {
          "output_type": "stream",
          "name": "stdout",
          "text": [
            "[[3 4 1]\n",
            " [5 3 1]\n",
            " [6 9 8]]\n",
            "\n",
            "\n",
            "[[3 3 1]\n",
            " [5 4 1]\n",
            " [6 9 8]]\n",
            "\n",
            "\n",
            "[[1 3 4]\n",
            " [1 3 5]\n",
            " [6 8 9]]\n",
            "\n",
            "\n",
            "[[2 0 1]\n",
            " [2 1 0]\n",
            " [0 2 1]]\n"
          ]
        }
      ]
    }
  ]
}